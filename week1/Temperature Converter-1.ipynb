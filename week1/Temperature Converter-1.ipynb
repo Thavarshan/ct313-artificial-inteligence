{
 "cells": [
  {
   "cell_type": "code",
   "execution_count": 2,
   "id": "d6594223",
   "metadata": {},
   "outputs": [
    {
     "name": "stdout",
     "output_type": "stream",
     "text": [
      "Enter a temperature value in Farenheit: \n",
      "12\n",
      "The temperature in Centigrade is: -11.11111111111111\n"
     ]
    }
   ],
   "source": [
    "# First we print out an instructionmessage to the user to input a temperature value\n",
    "print('Enter a temperature value in Farenheit e.g - 29: ')\n",
    "# We then capture the input value\n",
    "temp = int(input())\n",
    "# Perform the conversion calculation from Farenheit to Centigrade\n",
    "temp = (temp - 32)/1.8\n",
    "# We then finally print out the final result to the user\n",
    "print('The temperature in Centigrade is: {} C'.format(temp))"
   ]
  },
  {
   "cell_type": "code",
   "execution_count": 3,
   "id": "6d6e1c15",
   "metadata": {},
   "outputs": [
    {
     "name": "stdout",
     "output_type": "stream",
     "text": [
      "Enter a temperature value in Centigrade e.g - 29: \n",
      "30\n",
      "The temperature in Farenheit is: 86.0\n"
     ]
    }
   ],
   "source": [
    "# First we print out an instructionmessage to the user to input a temperature value\n",
    "print('Enter a temperature value in Centigrade e.g - 29: ')\n",
    "# We then capture the input value\n",
    "temp = int(input())\n",
    "# Perform the conversion calculation from Centigrade to Farenheit\n",
    "temp = (temp * 1.8) + 32\n",
    "# We then finally print out the final result to the user\n",
    "print('The temperature in Farenheit is: {} F'.format(temp))"
   ]
  },
  {
   "cell_type": "code",
   "execution_count": null,
   "id": "6cbd0b82",
   "metadata": {},
   "outputs": [],
   "source": []
  }
 ],
 "metadata": {
  "kernelspec": {
   "display_name": "Python 3 (ipykernel)",
   "language": "python",
   "name": "python3"
  },
  "language_info": {
   "codemirror_mode": {
    "name": "ipython",
    "version": 3
   },
   "file_extension": ".py",
   "mimetype": "text/x-python",
   "name": "python",
   "nbconvert_exporter": "python",
   "pygments_lexer": "ipython3",
   "version": "3.9.6"
  }
 },
 "nbformat": 4,
 "nbformat_minor": 5
}
