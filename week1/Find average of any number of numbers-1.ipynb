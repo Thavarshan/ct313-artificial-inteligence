{
 "cells": [
  {
   "cell_type": "code",
   "execution_count": 3,
   "id": "a96cce32",
   "metadata": {},
   "outputs": [
    {
     "name": "stdout",
     "output_type": "stream",
     "text": [
      "The list of numbers is: [3, 4, 67, 41, 3, 27, 23, 90, 3, 4, 1, 39, 14]\n",
      "The average of all the numbers is: 24.54\n"
     ]
    }
   ],
   "source": [
    "numbers = [3, 4, 67, 41, 3, 27, 23, 90, 3, 4, 1, 39, 14]\n",
    "sum_of_nums = 0\n",
    "count = 0\n",
    "for number in numbers:\n",
    "    sum_of_nums += number\n",
    "    count += 1\n",
    "average = sum_of_nums / count\n",
    "print(\"The list of numbers is:\", numbers)\n",
    "print(\"The average of all the numbers is:\", round(average, 2))"
   ]
  },
  {
   "cell_type": "code",
   "execution_count": null,
   "id": "2b70e709",
   "metadata": {},
   "outputs": [],
   "source": []
  }
 ],
 "metadata": {
  "kernelspec": {
   "display_name": "Python 3 (ipykernel)",
   "language": "python",
   "name": "python3"
  },
  "language_info": {
   "codemirror_mode": {
    "name": "ipython",
    "version": 3
   },
   "file_extension": ".py",
   "mimetype": "text/x-python",
   "name": "python",
   "nbconvert_exporter": "python",
   "pygments_lexer": "ipython3",
   "version": "3.9.6"
  }
 },
 "nbformat": 4,
 "nbformat_minor": 5
}
